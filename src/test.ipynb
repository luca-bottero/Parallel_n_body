{
 "cells": [
  {
   "cell_type": "code",
   "execution_count": 13,
   "metadata": {},
   "outputs": [],
   "source": [
    "from analysis import DataAnalyzer\n",
    "import yaml"
   ]
  },
  {
   "cell_type": "code",
   "execution_count": 17,
   "metadata": {},
   "outputs": [],
   "source": [
    "dat = DataAnalyzer('../results/TEST')"
   ]
  },
  {
   "cell_type": "code",
   "execution_count": 18,
   "metadata": {},
   "outputs": [],
   "source": [
    "dat.CalcVelFromPos()"
   ]
  },
  {
   "cell_type": "code",
   "execution_count": 19,
   "metadata": {},
   "outputs": [
    {
     "data": {
      "image/png": "[encoded data removed]",
      "text/plain": [
       "<Figure size 432x288 with 1 Axes>"
      ]
     },
     "metadata": {
      "needs_background": "light"
     },
     "output_type": "display_data"
    }
   ],
   "source": [
    "dat.PlotTotalKineticEnergy()"
   ]
  },
  {
   "cell_type": "code",
   "execution_count": 20,
   "metadata": {},
   "outputs": [],
   "source": [
    "ke = dat.TotalKineticEnergy"
   ]
  },
  {
   "cell_type": "code",
   "execution_count": 22,
   "metadata": {},
   "outputs": [
    {
     "data": {
      "text/plain": [
       "(998, 128)"
      ]
     },
     "execution_count": 22,
     "metadata": {},
     "output_type": "execute_result"
    }
   ],
   "source": [
    "ke.shape"
   ]
  },
  {
   "cell_type": "code",
   "execution_count": 24,
   "metadata": {},
   "outputs": [
    {
     "data": {
      "text/plain": [
       "[<matplotlib.lines.Line2D at 0x7fa64afb3610>,\n",
       " <matplotlib.lines.Line2D at 0x7fa64afb36a0>,\n",
       " <matplotlib.lines.Line2D at 0x7fa64afb37c0>,\n",
       " <matplotlib.lines.Line2D at 0x7fa64afb38e0>,\n",
       " <matplotlib.lines.Line2D at 0x7fa64afb3a00>,\n",
       " <matplotlib.lines.Line2D at 0x7fa64afb3b20>,\n",
       " <matplotlib.lines.Line2D at 0x7fa64afb3c40>,\n",
       " <matplotlib.lines.Line2D at 0x7fa64afb3d60>,\n",
       " <matplotlib.lines.Line2D at 0x7fa64afb3e80>,\n",
       " <matplotlib.lines.Line2D at 0x7fa64afb3fa0>,\n",
       " <matplotlib.lines.Line2D at 0x7fa64aea30a0>,\n",
       " <matplotlib.lines.Line2D at 0x7fa64afbc100>,\n",
       " <matplotlib.lines.Line2D at 0x7fa64afbc310>,\n",
       " <matplotlib.lines.Line2D at 0x7fa64afbc430>,\n",
       " <matplotlib.lines.Line2D at 0x7fa64afbc550>,\n",
       " <matplotlib.lines.Line2D at 0x7fa64afbc670>,\n",
       " <matplotlib.lines.Line2D at 0x7fa64afbc790>,\n",
       " <matplotlib.lines.Line2D at 0x7fa64afbc8b0>,\n",
       " <matplotlib.lines.Line2D at 0x7fa64afbc9d0>,\n",
       " <matplotlib.lines.Line2D at 0x7fa64afbcaf0>,\n",
       " <matplotlib.lines.Line2D at 0x7fa64afbcc10>,\n",
       " <matplotlib.lines.Line2D at 0x7fa64afbcd30>,\n",
       " <matplotlib.lines.Line2D at 0x7fa64afbce50>,\n",
       " <matplotlib.lines.Line2D at 0x7fa64afbcf70>,\n",
       " <matplotlib.lines.Line2D at 0x7fa64afc60d0>,\n",
       " <matplotlib.lines.Line2D at 0x7fa64afc61f0>,\n",
       " <matplotlib.lines.Line2D at 0x7fa64afc6310>,\n",
       " <matplotlib.lines.Line2D at 0x7fa64afc6430>,\n",
       " <matplotlib.lines.Line2D at 0x7fa64afc6550>,\n",
       " <matplotlib.lines.Line2D at 0x7fa64afc6670>,\n",
       " <matplotlib.lines.Line2D at 0x7fa64afc6790>,\n",
       " <matplotlib.lines.Line2D at 0x7fa64afc68b0>,\n",
       " <matplotlib.lines.Line2D at 0x7fa64afc69d0>,\n",
       " <matplotlib.lines.Line2D at 0x7fa64afc6af0>,\n",
       " <matplotlib.lines.Line2D at 0x7fa64afc6c10>,\n",
       " <matplotlib.lines.Line2D at 0x7fa64afc6d30>,\n",
       " <matplotlib.lines.Line2D at 0x7fa64afc6e50>,\n",
       " <matplotlib.lines.Line2D at 0x7fa64afc6f70>,\n",
       " <matplotlib.lines.Line2D at 0x7fa64afbd0d0>,\n",
       " <matplotlib.lines.Line2D at 0x7fa64afbd1f0>,\n",
       " <matplotlib.lines.Line2D at 0x7fa64afbd310>,\n",
       " <matplotlib.lines.Line2D at 0x7fa64afbd430>,\n",
       " <matplotlib.lines.Line2D at 0x7fa64afbd550>,\n",
       " <matplotlib.lines.Line2D at 0x7fa64afbd670>,\n",
       " <matplotlib.lines.Line2D at 0x7fa64afbd790>,\n",
       " <matplotlib.lines.Line2D at 0x7fa64afbd8b0>,\n",
       " <matplotlib.lines.Line2D at 0x7fa64afbd9d0>,\n",
       " <matplotlib.lines.Line2D at 0x7fa64afbdaf0>,\n",
       " <matplotlib.lines.Line2D at 0x7fa64afbdc10>,\n",
       " <matplotlib.lines.Line2D at 0x7fa64afbdd30>,\n",
       " <matplotlib.lines.Line2D at 0x7fa64afbde50>,\n",
       " <matplotlib.lines.Line2D at 0x7fa64afbdf70>,\n",
       " <matplotlib.lines.Line2D at 0x7fa64afa90d0>,\n",
       " <matplotlib.lines.Line2D at 0x7fa64afa91f0>,\n",
       " <matplotlib.lines.Line2D at 0x7fa64afa9310>,\n",
       " <matplotlib.lines.Line2D at 0x7fa64afa9430>,\n",
       " <matplotlib.lines.Line2D at 0x7fa64afa9550>,\n",
       " <matplotlib.lines.Line2D at 0x7fa64afa9670>,\n",
       " <matplotlib.lines.Line2D at 0x7fa64afa9790>,\n",
       " <matplotlib.lines.Line2D at 0x7fa64afa98b0>,\n",
       " <matplotlib.lines.Line2D at 0x7fa64afa99d0>,\n",
       " <matplotlib.lines.Line2D at 0x7fa64afa9af0>,\n",
       " <matplotlib.lines.Line2D at 0x7fa64afa9c10>,\n",
       " <matplotlib.lines.Line2D at 0x7fa64afa9d30>,\n",
       " <matplotlib.lines.Line2D at 0x7fa64afa9e50>,\n",
       " <matplotlib.lines.Line2D at 0x7fa64afa9f70>,\n",
       " <matplotlib.lines.Line2D at 0x7fa64ad580d0>,\n",
       " <matplotlib.lines.Line2D at 0x7fa64ad581f0>,\n",
       " <matplotlib.lines.Line2D at 0x7fa64ad58310>,\n",
       " <matplotlib.lines.Line2D at 0x7fa64ad58430>,\n",
       " <matplotlib.lines.Line2D at 0x7fa64ad58550>,\n",
       " <matplotlib.lines.Line2D at 0x7fa64ad58670>,\n",
       " <matplotlib.lines.Line2D at 0x7fa64ad58790>,\n",
       " <matplotlib.lines.Line2D at 0x7fa64ad588b0>,\n",
       " <matplotlib.lines.Line2D at 0x7fa64ad589d0>,\n",
       " <matplotlib.lines.Line2D at 0x7fa64ad58af0>,\n",
       " <matplotlib.lines.Line2D at 0x7fa64ad58c10>,\n",
       " <matplotlib.lines.Line2D at 0x7fa64ad58d30>,\n",
       " <matplotlib.lines.Line2D at 0x7fa64ad58e50>,\n",
       " <matplotlib.lines.Line2D at 0x7fa64ad58f70>,\n",
       " <matplotlib.lines.Line2D at 0x7fa64ad710d0>,\n",
       " <matplotlib.lines.Line2D at 0x7fa64ad711f0>,\n",
       " <matplotlib.lines.Line2D at 0x7fa64ad71310>,\n",
       " <matplotlib.lines.Line2D at 0x7fa64ad71430>,\n",
       " <matplotlib.lines.Line2D at 0x7fa64ad71550>,\n",
       " <matplotlib.lines.Line2D at 0x7fa64ad71670>,\n",
       " <matplotlib.lines.Line2D at 0x7fa64ad71790>,\n",
       " <matplotlib.lines.Line2D at 0x7fa64ad718b0>,\n",
       " <matplotlib.lines.Line2D at 0x7fa64ad719d0>,\n",
       " <matplotlib.lines.Line2D at 0x7fa64ad71af0>,\n",
       " <matplotlib.lines.Line2D at 0x7fa64ad71c10>,\n",
       " <matplotlib.lines.Line2D at 0x7fa64ad71d30>,\n",
       " <matplotlib.lines.Line2D at 0x7fa64ad71e80>,\n",
       " <matplotlib.lines.Line2D at 0x7fa64ad71fa0>,\n",
       " <matplotlib.lines.Line2D at 0x7fa64ad6c100>,\n",
       " <matplotlib.lines.Line2D at 0x7fa64ad6c220>,\n",
       " <matplotlib.lines.Line2D at 0x7fa64ad6c340>,\n",
       " <matplotlib.lines.Line2D at 0x7fa64ad6c460>,\n",
       " <matplotlib.lines.Line2D at 0x7fa64ad6c580>,\n",
       " <matplotlib.lines.Line2D at 0x7fa64ad6c6a0>,\n",
       " <matplotlib.lines.Line2D at 0x7fa64ad6c7c0>,\n",
       " <matplotlib.lines.Line2D at 0x7fa64ad6c8e0>,\n",
       " <matplotlib.lines.Line2D at 0x7fa64ad6ca00>,\n",
       " <matplotlib.lines.Line2D at 0x7fa64ad6cb20>,\n",
       " <matplotlib.lines.Line2D at 0x7fa64ad6cc40>,\n",
       " <matplotlib.lines.Line2D at 0x7fa64ad6cd60>,\n",
       " <matplotlib.lines.Line2D at 0x7fa64ad6ce80>,\n",
       " <matplotlib.lines.Line2D at 0x7fa64ad6cfa0>,\n",
       " <matplotlib.lines.Line2D at 0x7fa64ad85100>,\n",
       " <matplotlib.lines.Line2D at 0x7fa64ad85220>,\n",
       " <matplotlib.lines.Line2D at 0x7fa64ad85340>,\n",
       " <matplotlib.lines.Line2D at 0x7fa64ad85460>,\n",
       " <matplotlib.lines.Line2D at 0x7fa64ad85580>,\n",
       " <matplotlib.lines.Line2D at 0x7fa64ad856a0>,\n",
       " <matplotlib.lines.Line2D at 0x7fa64ad857c0>,\n",
       " <matplotlib.lines.Line2D at 0x7fa64ad858e0>,\n",
       " <matplotlib.lines.Line2D at 0x7fa64ad85a00>,\n",
       " <matplotlib.lines.Line2D at 0x7fa64ad85b20>,\n",
       " <matplotlib.lines.Line2D at 0x7fa64ad85c40>,\n",
       " <matplotlib.lines.Line2D at 0x7fa64ad85d60>,\n",
       " <matplotlib.lines.Line2D at 0x7fa64ad85e80>,\n",
       " <matplotlib.lines.Line2D at 0x7fa64ad85fa0>,\n",
       " <matplotlib.lines.Line2D at 0x7fa64ad66100>,\n",
       " <matplotlib.lines.Line2D at 0x7fa64ad66220>,\n",
       " <matplotlib.lines.Line2D at 0x7fa64ad66340>,\n",
       " <matplotlib.lines.Line2D at 0x7fa64ad66460>,\n",
       " <matplotlib.lines.Line2D at 0x7fa64ad66580>,\n",
       " <matplotlib.lines.Line2D at 0x7fa64ad666a0>]"
      ]
     },
     "execution_count": 24,
     "metadata": {},
     "output_type": "execute_result"
    },
    {
     "data": {
      "image/png": "[encoded data removed]",
      "text/plain": [
       "<Figure size 432x288 with 1 Axes>"
      ]
     },
     "metadata": {
      "needs_background": "light"
     },
     "output_type": "display_data"
    }
   ],
   "source": [
    "import matplotlib.pyplot as plt\n",
    "import numpy as np\n",
    "plt.plot(ke)"
   ]
  },
  {
   "cell_type": "code",
   "execution_count": 12,
   "metadata": {},
   "outputs": [
    {
     "data": {
      "text/plain": [
       "(12544, 3)"
      ]
     },
     "execution_count": 12,
     "metadata": {},
     "output_type": "execute_result"
    }
   ],
   "source": [
    "pos[128:].shape"
   ]
  },
  {
   "cell_type": "code",
   "execution_count": null,
   "metadata": {},
   "outputs": [],
   "source": []
  }
 ],
 "metadata": {
  "language_info": {
   "name": "python"
  },
  "orig_nbformat": 4
 },
 "nbformat": 4,
 "nbformat_minor": 2
}
